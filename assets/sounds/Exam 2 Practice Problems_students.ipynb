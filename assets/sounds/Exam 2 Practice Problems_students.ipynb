{
 "cells": [
  {
   "cell_type": "markdown",
   "id": "c4f3a4ac",
   "metadata": {},
   "source": [
    "<img src=\"https://www.usna.edu/WRC/_files/WRClogos/WRCE-logo-combined-01-crop.png\" width=\"200px\">\n",
    "\n",
    "# EW200: Intro To Programming: 12 Week Exam Review\n",
    "\n",
    "## Instructions:  \n",
    "•\tExam 2 is 50 minutes. \n",
    "\n",
    "•\tExam is closed book, closed notes, but you are allowed one 8.5” x 11” piece of paper with your own handwritten notes on both side (front and back). This will be checked by your instructor.\n",
    "\n",
    "•\tThe only material you are allowed to use is your handwritten notes. You must not access any page on your computer or phone at any time.  \n",
    "\n",
    "•\tWhen finished, return your exam sheet and any handwritten notes to your instructor and leave the room quietly.  "
   ]
  },
  {
   "cell_type": "markdown",
   "id": "66c77402",
   "metadata": {},
   "source": [
    "### Functions"
   ]
  },
  {
   "cell_type": "markdown",
   "id": "489c81ad",
   "metadata": {},
   "source": [
    "Create a function called `time_conversion` that accepts two arguments called `time` and `time_unit` and a third optional argument called time_zone with a default value of EST. This function should return the time converted from either hours `h` or minutes `min` to seconds, otherwise it should return the time in seconds if the time is given in seconds `s`."
   ]
  },
  {
   "cell_type": "code",
   "execution_count": null,
   "id": "5409a1e7",
   "metadata": {
    "scrolled": true
   },
   "outputs": [],
   "source": [
    "def time_conversion(time, time_unit, time_zone='EST'):\n",
    "    if time_unit == 'h':\n",
    "        time = time * 3600\n",
    "        return time\n",
    "    elif time_unit == 'min':\n",
    "        time = time * 60\n",
    "        return time\n",
    "    elif time_unit == 's':\n",
    "        time = time\n",
    "    else:\n",
    "        print('you did not enter a correct value for time units')\n",
    "        time = None\n",
    "    return time\n",
    "\n",
    "print(time_conversion(10, 'min'))\n",
    "\n",
    "print(time_conversion(10, 'h'))\n",
    "\n",
    "print(time_conversion(10, 's'))\n",
    "\n",
    "print(time_conversion(10, 'mm'))"
   ]
  },
  {
   "cell_type": "markdown",
   "id": "bf75383f",
   "metadata": {},
   "source": [
    "### Dictionaries"
   ]
  },
  {
   "cell_type": "markdown",
   "id": "297666f7",
   "metadata": {},
   "source": [
    "Assume the Navy stores information about its senior officers in a dictionary structure as shown below.  \n",
    "\n",
    "navy_info = { <br>\n",
    "    'Admiral': { <br>\n",
    "        'name': 'John Smith', <br>\n",
    "        'rank': 'Admiral', <br>\n",
    "        'years_of_service': 25, <br>\n",
    "        'ship_count': 5 <br>\n",
    "    },  <br>\n",
    "    'Captain': { <br>\n",
    "        'name': 'Alice Johnson', <br>\n",
    "        'rank': 'Captain', <br>\n",
    "        'years_of_service': 15, <br>\n",
    "        'ship_count': 2 <br>\n",
    "    } <br>\n",
    "}"
   ]
  },
  {
   "cell_type": "markdown",
   "id": "82c2b5eb",
   "metadata": {},
   "source": [
    "Write Python Code to print how long each officer has been in the Navy, for example:\n",
    "\n",
    "Admiral John Smith has been in the Navy 25 years"
   ]
  },
  {
   "cell_type": "code",
   "execution_count": null,
   "id": "9690e576",
   "metadata": {},
   "outputs": [],
   "source": [
    "navy_info = {\n",
    "'Admiral': {\n",
    "'name': 'John Smith',\n",
    "'rank': 'Admiral',\n",
    "'years_of_service': 25,\n",
    "'ship_count': 5\n",
    "},\n",
    "'Captain': {\n",
    "'name': 'Alice Johnson',\n",
    "'rank': 'Captain',\n",
    "'years_of_service': 15,\n",
    "'ship_count': 2\n",
    "}\n",
    "}\n",
    "\n",
    "#to just print out Admiral John Smith\n",
    "print(f\" {navy_info['Admiral']['rank']} {navy_info['Admiral']['name']} has been in the Navy {navy_info['Admiral']['years_of_service']} years\")\n",
    "\n",
    "#to loop through the dictionary\n",
    "for officers in navy_info:\n",
    "    print(f\" {navy_info[officers]['rank']} {navy_info[officers]['name']} has been in the Navy {navy_info[officers]['years_of_service']} years\" )"
   ]
  },
  {
   "cell_type": "markdown",
   "id": "8db82cb9",
   "metadata": {},
   "source": [
    "Fix the error(s) in the function below so it prints a message showing how far you are driving"
   ]
  },
  {
   "cell_type": "code",
   "execution_count": null,
   "id": "ec9e0fb6",
   "metadata": {},
   "outputs": [],
   "source": [
    "def drive(distance) #missing :\n",
    "  print(\"driving {distance} miles\") # missing f"
   ]
  },
  {
   "cell_type": "markdown",
   "id": "889687a4",
   "metadata": {},
   "source": [
    "### Classes"
   ]
  },
  {
   "cell_type": "markdown",
   "id": "46929118",
   "metadata": {},
   "source": [
    "Create a class called HalloweenCostume that has three attributes, name, costume_type, and price.  price should default to a value of 10 **but allowed to be changed if a price is entered.** "
   ]
  },
  {
   "cell_type": "code",
   "execution_count": null,
   "id": "79674243",
   "metadata": {},
   "outputs": [],
   "source": [
    "class HalloweenCostume():\n",
    "    def __init__(self, name, costume_type, price=10):\n",
    "        self.name=name\n",
    "        self.costume_type=costume_type\n",
    "        self.price=price\n",
    "    \n",
    "        "
   ]
  },
  {
   "cell_type": "markdown",
   "id": "37f41da5",
   "metadata": {},
   "source": [
    "Create two HalloweenCostumes.  The first one is SpookyCostume that has a name of Vampire, a costume type of Scary that costs 20 dollars.  The second one is CuteCostume with a name of Baby and a costume type of Cute that defaults to 10 dollars. "
   ]
  },
  {
   "cell_type": "code",
   "execution_count": null,
   "id": "cf0b434b",
   "metadata": {},
   "outputs": [],
   "source": [
    "SpookyCostume = HalloweenCostume('Vampire','Scary', 20)\n",
    "CuteCostume = HalloweenCostume('Baby', 'Cute')"
   ]
  },
  {
   "cell_type": "markdown",
   "id": "939dbd16",
   "metadata": {},
   "source": [
    "Add two methods to your HalloweenCostume class.  The first method should be called costume_cost and shoud increase the price of the costume based on additional accessories you need to purchase. The method should **print** out the following information:\n",
    "\n",
    "The Vampire costume is Scary and costs a total of $30 \n",
    "\n",
    "The second method should be called scare.  This method shoud **return** whether or the costume type is scary or not such as:\n",
    "\n",
    "Vampire is a scary costume\n",
    "\n",
    "Baby is not a scary costume"
   ]
  },
  {
   "cell_type": "code",
   "execution_count": null,
   "id": "69fa0286",
   "metadata": {},
   "outputs": [],
   "source": [
    "class HalloweenCostume():\n",
    "    def __init__(self, name, costume_type, price=10):\n",
    "        self.name=name\n",
    "        self.costume_type=costume_type\n",
    "        self.price=price\n",
    "        \n",
    "    def costume_cost(self,extra):\n",
    "        self.price += extra\n",
    "        print(f\"The {self.name} costume is {self.costume_type} and costs a total of ${self.price}\")\n",
    "\n",
    "    \n",
    "    def scare(self):\n",
    "        if self.costume_type == \"Scary\":\n",
    "            return f\"{self.name} is a scary costume\"\n",
    "        else:\n",
    "            return f\"{self.name} is not a scary costume\"\n",
    "        \n",
    "    \n",
    "SpookyCostume = HalloweenCostume('Vampire','Scary', 20)\n",
    "CuteCostume = HalloweenCostume('Baby', 'Cute')\n",
    "\n",
    "SpookyCostume.costume_cost(10)   \n",
    "CuteCostume.costume_cost(15)\n",
    "\n",
    "print(SpookyCostume.scare())\n",
    "print(CuteCostume.scare())\n",
    "    \n",
    "    \n",
    "        "
   ]
  },
  {
   "cell_type": "markdown",
   "id": "a48df121",
   "metadata": {},
   "source": [
    "Assume you are the software Engineer of a company and are given the function below.\n",
    "\n",
    "```\n",
    "def make_car(manufacturer, model, **options) \n",
    "    car_info = {\n",
    "        'manufacturer': manufacturer.title(),\n",
    "        'model': model.title(),\n",
    "        }\n",
    "    for option, value in options.values(): \n",
    "        car_into[option] = value\n",
    "\n",
    "    return \n",
    "\n",
    "my_outback = make_car('subaru', 'outback', color='blue', tow_package=True)\n",
    "print(my_outback)\n",
    "\n",
    "my_old_accord = make_car('honda', 'accord', year=1991, color='white',\n",
    "        headlights='popup')\n",
    "print(my_old_accord)\n",
    "```"
   ]
  },
  {
   "cell_type": "markdown",
   "id": "926fc944",
   "metadata": {},
   "source": [
    "Noting that the code contains issues, can you first identify what the code is supposed to be doing?  Then fix the code"
   ]
  },
  {
   "cell_type": "code",
   "execution_count": null,
   "id": "568bb54d",
   "metadata": {},
   "outputs": [],
   "source": [
    "def make_car(manufacturer, model, **options):\n",
    "    car_info = {\n",
    "        'manufacturer': manufacturer.title(),\n",
    "        'model': model.title(),\n",
    "        }\n",
    "    for option, value in options.items(): \n",
    "        car_info[option] = value\n",
    "        \n",
    "    return car_info\n",
    "\n",
    "my_outback = make_car('subaru', 'outback', color='blue', tow_package=True)\n",
    "print(my_outback)\n",
    "\n",
    "my_old_accord = make_car('honda', 'accord', year=1991, color='white',\n",
    "        headlights='popup')\n",
    "print(my_old_accord)"
   ]
  },
  {
   "cell_type": "markdown",
   "id": "65d70293",
   "metadata": {},
   "source": [
    "One of your employee complains about the code below not working. Can you help in fixing the issues?"
   ]
  },
  {
   "cell_type": "code",
   "execution_count": null,
   "id": "473835dc",
   "metadata": {},
   "outputs": [],
   "source": [
    "def count_words(filename) #need :\n",
    "    try:\n",
    "        with open(filename, w) as my_file: #should be 'r' vice w\n",
    "            contents = my_file() \n",
    "    except FileNotFoundError:\n",
    "        print(\"Sorry, the file {filename} does not exist\") #need f\n",
    "    else:\n",
    "        words = contents.split()\n",
    "        num_words = range(len(words)) #just len(words)\n",
    "        print(\"The file {filename} has about {num_words} words.\") #need f\n",
    "        \n",
    "\n",
    "filename = ReefPoints # 'ReefPoints' or 'ReefPoints.txt'\n",
    "count_words(filename)"
   ]
  },
  {
   "cell_type": "markdown",
   "id": "efb59767",
   "metadata": {},
   "source": [
    "### Pygame\n",
    "\n",
    "As a software developer, you have developped the code below for a pygame video game. In order to transfer the code to other engineers, you are required to add comments to a few line of codes below by filling out the missing ????\n",
    "\n",
    "```\n",
    "import sys\n",
    "import pygame\n",
    "\n",
    "# ???\n",
    "pygame.init()\n",
    "\n",
    "# ????\n",
    "WIDTH = 320\n",
    "HEIGHT = 200\n",
    "\n",
    "\n",
    "SPEED = [2, 1]\n",
    "BLACK = (0,0,0)\n",
    "\n",
    "screen = pygame.display.set_mode((WIDTH, HEIGHT))\n",
    "window_title = \"My game\"\n",
    "pygame.display.set_caption(window_title)\n",
    "\n",
    "# ????\n",
    "smilie = pygame.image.load(\"smilie.png\").convert()\n",
    "smilie_rect = smilie.get_rect()\n",
    "smilie.set_colorkey(BLACK)\n",
    "\n",
    "\n",
    "# main loop\n",
    "while True:\n",
    "    # ????\n",
    "    for event in pygame.event.get():\n",
    "       if event.type == pygame.QUIT:\n",
    "           sys.exit()\n",
    "           \n",
    "    # move object\n",
    "    smilie_rect.move_ip(speed)\n",
    "    if smilie_rect.left + 10 < 0 or smilie_rect.right - 11 > width:\n",
    "        speed[0] = -speed[0] # ????\n",
    "    if smilie_rect.top + 10 < 0 or smilie_rect.bottom - 12 > height:\n",
    "        speed[1] = -speed[1] #????\n",
    "    \n",
    "    # update image\n",
    "    screen.fill(BLACK) # ????\n",
    "    screen.blit(smilie, smilie_rect) # ????\n",
    "    pygame.display.flip() # ????\n",
    "```"
   ]
  },
  {
   "cell_type": "markdown",
   "id": "843195b3",
   "metadata": {},
   "source": [
    "What does `pygame.display.flip()` do? What happens if you forget to call it?"
   ]
  },
  {
   "cell_type": "markdown",
   "id": "d6cb0418",
   "metadata": {},
   "source": [
    "What does the surface.blit() function do in pygame?"
   ]
  },
  {
   "cell_type": "markdown",
   "id": "9d6efea0",
   "metadata": {},
   "source": [
    "What might your game window look like after executing `screen.fill((200,0,0))`"
   ]
  },
  {
   "cell_type": "code",
   "execution_count": null,
   "id": "46e26123",
   "metadata": {},
   "outputs": [],
   "source": [
    "import sys\n",
    "import pygame\n",
    "\n",
    "# initialize pygame\n",
    "pygame.init()\n",
    "\n",
    "# set screen dimensions\n",
    "WIDTH = 320\n",
    "HEIGHT = 200\n",
    "\n",
    "\n",
    "SPEED = [2, 1]\n",
    "BLACK = (0,0,0)\n",
    "\n",
    "screen = pygame.display.set_mode(WIDTH, HEIGHT)\n",
    "window_title = \"My game\"\n",
    "pygame.display.set_caption(window_title)\n",
    "\n",
    "# load image and determine image characteristics \n",
    "smilie = pygame.image.load(\"smilie.png\").convert()\n",
    "smilie_rect = smilie.get_rect()\n",
    "smilie.set_colorkey(BLACK)\n",
    "\n",
    "\n",
    "# main loop\n",
    "while True:\n",
    "    # wait for events (such as keys being pressed, mouse being clicked, etc.).\n",
    "    # if the \"close window\" button has been pressed, end the program\n",
    "    for event in pygame.event.get():\n",
    "        if event.type == pygame.QUIT:\n",
    "            sys.exit()\n",
    "           \n",
    "    # move object\n",
    "    smilie_rect.move_ip(speed)\n",
    "    if smilie_rect.left + 10 < 0 or smilie_rect.right - 11 > width:\n",
    "        speed[0] = -speed[0] # move object horizontally at a value of speed[0] = 2\n",
    "    if smilie_rect.top + 10 < 0 or smilie_rect.bottom - 12 > height:\n",
    "        speed[1] = -speed[1] # move object vertically at a value of speed[0] = 1\n",
    "    pygame.time.delay(10)\n",
    "    \n",
    "    # update image\n",
    "    screen.fill(BLACK) # fill the screen black\n",
    "    screen.blit(smilie, smilie_rect) # tranSfer/copy pixels from an image (\"smilie\") onto the game (\"screen\")\n",
    "    pygame.display.flip() #update the computer screen by \"flipping\" the image in the computer memory onto the screen"
   ]
  }
 ],
 "metadata": {
  "kernelspec": {
   "display_name": "Python 3 (ipykernel)",
   "language": "python",
   "name": "python3"
  },
  "language_info": {
   "codemirror_mode": {
    "name": "ipython",
    "version": 3
   },
   "file_extension": ".py",
   "mimetype": "text/x-python",
   "name": "python",
   "nbconvert_exporter": "python",
   "pygments_lexer": "ipython3",
   "version": "3.9.12"
  }
 },
 "nbformat": 4,
 "nbformat_minor": 5
}
